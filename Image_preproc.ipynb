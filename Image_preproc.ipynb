{
 "cells": [
  {
   "cell_type": "code",
   "execution_count": 4,
   "metadata": {},
   "outputs": [],
   "source": [
    "from rembg import remove\n",
    "from PIL import Image\n",
    "import os"
   ]
  },
  {
   "cell_type": "code",
   "execution_count": 12,
   "metadata": {},
   "outputs": [],
   "source": [
    "def proc(img):\n",
    "    temp = remove(img)\n",
    "    fill_color = (238,238,238)\n",
    "    temp = temp.resize((128,128))\n",
    "    temp = temp.convert('RGBA')\n",
    "    if temp.mode in ('RGBA','LA'):\n",
    "        bg = Image.new(temp.mode[:-1], temp.size, fill_color)\n",
    "        bg.paste(temp,temp.split()[-1])\n",
    "        temp = bg \n",
    "    temp = temp.convert('RGB')   \n",
    "    return temp\n"
   ]
  },
  {
   "cell_type": "code",
   "execution_count": 9,
   "metadata": {},
   "outputs": [],
   "source": [
    "path = r'C:\\Users\\LENOVO\\Desktop\\Anuj\\Data Mining\\PCA Project\\Dataset'"
   ]
  },
  {
   "cell_type": "code",
   "execution_count": 14,
   "metadata": {},
   "outputs": [
    {
     "name": "stdout",
     "output_type": "stream",
     "text": [
      "C:\\Users\\LENOVO\\Desktop\\Anuj\\Data Mining\\PCA Project\\Dataset\\img (1).jpg\n",
      "C:\\Users\\LENOVO\\Desktop\\Anuj\\Data Mining\\PCA Project\\Dataset\\img (10).jpg\n",
      "C:\\Users\\LENOVO\\Desktop\\Anuj\\Data Mining\\PCA Project\\Dataset\\img (11).jpg\n",
      "C:\\Users\\LENOVO\\Desktop\\Anuj\\Data Mining\\PCA Project\\Dataset\\img (12).jpg\n",
      "C:\\Users\\LENOVO\\Desktop\\Anuj\\Data Mining\\PCA Project\\Dataset\\img (13).jpg\n",
      "C:\\Users\\LENOVO\\Desktop\\Anuj\\Data Mining\\PCA Project\\Dataset\\img (14).jpg\n",
      "C:\\Users\\LENOVO\\Desktop\\Anuj\\Data Mining\\PCA Project\\Dataset\\img (15).jpg\n",
      "C:\\Users\\LENOVO\\Desktop\\Anuj\\Data Mining\\PCA Project\\Dataset\\img (16).jpg\n",
      "C:\\Users\\LENOVO\\Desktop\\Anuj\\Data Mining\\PCA Project\\Dataset\\img (17).jpg\n",
      "C:\\Users\\LENOVO\\Desktop\\Anuj\\Data Mining\\PCA Project\\Dataset\\img (18).jpg\n",
      "C:\\Users\\LENOVO\\Desktop\\Anuj\\Data Mining\\PCA Project\\Dataset\\img (19).jpg\n",
      "C:\\Users\\LENOVO\\Desktop\\Anuj\\Data Mining\\PCA Project\\Dataset\\img (2).jpg\n",
      "C:\\Users\\LENOVO\\Desktop\\Anuj\\Data Mining\\PCA Project\\Dataset\\img (20).jpg\n",
      "C:\\Users\\LENOVO\\Desktop\\Anuj\\Data Mining\\PCA Project\\Dataset\\img (21).jpg\n",
      "C:\\Users\\LENOVO\\Desktop\\Anuj\\Data Mining\\PCA Project\\Dataset\\img (22).jpg\n",
      "C:\\Users\\LENOVO\\Desktop\\Anuj\\Data Mining\\PCA Project\\Dataset\\img (23).jpg\n",
      "C:\\Users\\LENOVO\\Desktop\\Anuj\\Data Mining\\PCA Project\\Dataset\\img (24).jpg\n",
      "C:\\Users\\LENOVO\\Desktop\\Anuj\\Data Mining\\PCA Project\\Dataset\\img (25).jpg\n",
      "C:\\Users\\LENOVO\\Desktop\\Anuj\\Data Mining\\PCA Project\\Dataset\\img (26).jpg\n",
      "C:\\Users\\LENOVO\\Desktop\\Anuj\\Data Mining\\PCA Project\\Dataset\\img (27).jpg\n",
      "C:\\Users\\LENOVO\\Desktop\\Anuj\\Data Mining\\PCA Project\\Dataset\\img (28).jpg\n",
      "C:\\Users\\LENOVO\\Desktop\\Anuj\\Data Mining\\PCA Project\\Dataset\\img (29).jpg\n",
      "C:\\Users\\LENOVO\\Desktop\\Anuj\\Data Mining\\PCA Project\\Dataset\\img (3).jpg\n",
      "C:\\Users\\LENOVO\\Desktop\\Anuj\\Data Mining\\PCA Project\\Dataset\\img (30).jpg\n",
      "C:\\Users\\LENOVO\\Desktop\\Anuj\\Data Mining\\PCA Project\\Dataset\\img (31).jpg\n",
      "C:\\Users\\LENOVO\\Desktop\\Anuj\\Data Mining\\PCA Project\\Dataset\\img (32).jpg\n",
      "C:\\Users\\LENOVO\\Desktop\\Anuj\\Data Mining\\PCA Project\\Dataset\\img (33).jpg\n",
      "C:\\Users\\LENOVO\\Desktop\\Anuj\\Data Mining\\PCA Project\\Dataset\\img (34).jpg\n",
      "C:\\Users\\LENOVO\\Desktop\\Anuj\\Data Mining\\PCA Project\\Dataset\\img (35).jpg\n",
      "C:\\Users\\LENOVO\\Desktop\\Anuj\\Data Mining\\PCA Project\\Dataset\\img (36).jpg\n",
      "C:\\Users\\LENOVO\\Desktop\\Anuj\\Data Mining\\PCA Project\\Dataset\\img (37).jpg\n",
      "C:\\Users\\LENOVO\\Desktop\\Anuj\\Data Mining\\PCA Project\\Dataset\\img (38).jpg\n",
      "C:\\Users\\LENOVO\\Desktop\\Anuj\\Data Mining\\PCA Project\\Dataset\\img (39).jpg\n",
      "C:\\Users\\LENOVO\\Desktop\\Anuj\\Data Mining\\PCA Project\\Dataset\\img (4).jpg\n",
      "C:\\Users\\LENOVO\\Desktop\\Anuj\\Data Mining\\PCA Project\\Dataset\\img (5).jpg\n",
      "C:\\Users\\LENOVO\\Desktop\\Anuj\\Data Mining\\PCA Project\\Dataset\\img (6).jpg\n",
      "C:\\Users\\LENOVO\\Desktop\\Anuj\\Data Mining\\PCA Project\\Dataset\\img (7).jpg\n",
      "C:\\Users\\LENOVO\\Desktop\\Anuj\\Data Mining\\PCA Project\\Dataset\\img (8).jpg\n",
      "C:\\Users\\LENOVO\\Desktop\\Anuj\\Data Mining\\PCA Project\\Dataset\\img (9).jpg\n"
     ]
    }
   ],
   "source": [
    "for root, dirs, files in os.walk(path, topdown=False):\n",
    "    for name in files:\n",
    "        print(os.path.join(root,name))\n",
    "\n",
    "        img = Image.open(os.path.join(root,name))\n",
    "        out = proc(img)\n",
    "        result = name.replace('.png','.jpg')\n",
    "        out.save(os.path.join(root,result))\n"
   ]
  },
  {
   "cell_type": "code",
   "execution_count": null,
   "metadata": {},
   "outputs": [],
   "source": []
  }
 ],
 "metadata": {
  "kernelspec": {
   "display_name": ".venv",
   "language": "python",
   "name": "python3"
  },
  "language_info": {
   "codemirror_mode": {
    "name": "ipython",
    "version": 3
   },
   "file_extension": ".py",
   "mimetype": "text/x-python",
   "name": "python",
   "nbconvert_exporter": "python",
   "pygments_lexer": "ipython3",
   "version": "3.9.13"
  },
  "orig_nbformat": 4
 },
 "nbformat": 4,
 "nbformat_minor": 2
}
